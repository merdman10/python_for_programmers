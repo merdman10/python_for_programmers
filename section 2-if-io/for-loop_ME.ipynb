{
 "cells": [
  {
   "cell_type": "markdown",
   "metadata": {},
   "source": [
    "In this notebook we will discuss the following:\n",
    "    \n",
    "1) if-else\n",
    "\n",
    "2) while\n",
    "\n",
    "3) for-loop\n",
    "\n",
    "4) range and xrange"
   ]
  },
  {
   "cell_type": "code",
   "execution_count": null,
   "metadata": {},
   "outputs": [],
   "source": [
    "'''\n",
    "Syntax of if-else\n",
    "if condition 1:\n",
    "   execute statement(s) that are under this block\n",
    "elif condition 2:\n",
    "    execute statement(s) that are under this block\n",
    "else:\n",
    "    execute statement(s) that are under this block\n",
    "'''\n",
    "\n",
    "x = int(input(\"Please enter your choice (0 or 1): \"))\n",
    "\n",
    "if x < 0:\n",
    "    print('Negative number not allowed')\n",
    "elif x == 0:\n",
    "    print(\"Zero\")\n",
    "elif x == 1:\n",
    "    print('One')\n",
    "else:\n",
    "    print('Number more than 1 is not allowed')"
   ]
  },
  {
   "cell_type": "markdown",
   "metadata": {},
   "source": [
    "In Python, we can compute bool of any data type. What?\n",
    "bool of non-trivial values of any data type will return True whereas bool of trivial values of any data type will return False.\n",
    "\n",
    "bool(0) is False\n",
    "\n",
    "bool(-1) is True\n",
    "\n",
    "bool('') is False\n",
    "\n",
    "bool(' ') is True\n",
    "\n",
    "bool(0.0) is False\n",
    "\n",
    "bool(0.1) is True\n",
    "\n",
    "This will be useful especially when you want to check if something is empty or not using the if-else condition. "
   ]
  },
  {
   "cell_type": "markdown",
   "metadata": {},
   "source": [
    "\n",
    "To learn more about Truthiness in Python check the following links\n",
    "\n",
    "https://www.udacity.com/wiki/cs258/truthiness-in-python\n",
    "\n",
    "https://docs.python.org/release/2.5.2/lib/truth.html\n",
    "\n",
    "https://www.youtube.com/watch?v=9OK32jb_TdI"
   ]
  },
  {
   "cell_type": "code",
   "execution_count": 1,
   "metadata": {},
   "outputs": [
    {
     "name": "stdout",
     "output_type": "stream",
     "text": [
      "a is zero\n"
     ]
    }
   ],
   "source": [
    "a = 0\n",
    "if a:\n",
    "    print('a is non zero integer')\n",
    "else:\n",
    "    print('a is zero')"
   ]
  },
  {
   "cell_type": "code",
   "execution_count": 2,
   "metadata": {},
   "outputs": [
    {
     "name": "stdout",
     "output_type": "stream",
     "text": [
      "a is 0.0\n"
     ]
    }
   ],
   "source": [
    "a = 0.0\n",
    "if a:\n",
    "    print(\"a is non zero float\")\n",
    "else:\n",
    "    print(\"a is 0.0\")"
   ]
  },
  {
   "cell_type": "code",
   "execution_count": 3,
   "metadata": {},
   "outputs": [
    {
     "name": "stdout",
     "output_type": "stream",
     "text": [
      "a is an empty string\n"
     ]
    }
   ],
   "source": [
    "a = ''\n",
    "\n",
    "if a:\n",
    "    print(\"a is a non-empty string\")\n",
    "    \n",
    "else:\n",
    "    print(\"a is an empty string\")"
   ]
  },
  {
   "cell_type": "code",
   "execution_count": 4,
   "metadata": {},
   "outputs": [
    {
     "data": {
      "text/plain": [
       "'the    life  is    good'"
      ]
     },
     "execution_count": 4,
     "metadata": {},
     "output_type": "execute_result"
    }
   ],
   "source": [
    "'the    life  is    good   '.strip(' ')"
   ]
  },
  {
   "cell_type": "code",
   "execution_count": 5,
   "metadata": {},
   "outputs": [
    {
     "data": {
      "text/plain": [
       "'the    life  is    good'"
      ]
     },
     "execution_count": 5,
     "metadata": {},
     "output_type": "execute_result"
    }
   ],
   "source": [
    "';the    life  is    good   '.strip('; ')"
   ]
  },
  {
   "cell_type": "markdown",
   "metadata": {},
   "source": [
    "Syntax for list \n",
    "\n",
    "n = [item1, item2, item3].\n",
    "\n",
    "Simple way to create a list of integers\n",
    "is by using range(n) that will create an iterator which holds values from 0, 1, 2, ..., n-1. "
   ]
  },
  {
   "cell_type": "code",
   "execution_count": 6,
   "metadata": {},
   "outputs": [
    {
     "name": "stdout",
     "output_type": "stream",
     "text": [
      "range(0, 5)\n"
     ]
    }
   ],
   "source": [
    "print(range(5))"
   ]
  },
  {
   "cell_type": "markdown",
   "metadata": {},
   "source": [
    "We will then use the list() function to print the values in the iterator as a list."
   ]
  },
  {
   "cell_type": "code",
   "execution_count": 7,
   "metadata": {},
   "outputs": [
    {
     "name": "stdout",
     "output_type": "stream",
     "text": [
      "[0, 1, 2, 3, 4]\n"
     ]
    }
   ],
   "source": [
    "print(list(range(5)))"
   ]
  },
  {
   "cell_type": "markdown",
   "metadata": {},
   "source": [
    "range(n1, n2) will return an iterator that holds values from n1 to n2-1."
   ]
  },
  {
   "cell_type": "code",
   "execution_count": 8,
   "metadata": {},
   "outputs": [
    {
     "name": "stdout",
     "output_type": "stream",
     "text": [
      "range(2, 9)\n",
      "[2, 3, 4, 5, 6, 7, 8]\n"
     ]
    }
   ],
   "source": [
    "print(range(2, 9))\n",
    "print(list(range(2, 9)))"
   ]
  },
  {
   "cell_type": "markdown",
   "metadata": {},
   "source": [
    "range(n1, n2, incr) will return an iterator from n1 to n2-1 in steps of incr."
   ]
  },
  {
   "cell_type": "code",
   "execution_count": 9,
   "metadata": {},
   "outputs": [
    {
     "name": "stdout",
     "output_type": "stream",
     "text": [
      "range(2, 9, 3)\n",
      "[2, 5, 8]\n"
     ]
    }
   ],
   "source": [
    "print(range(2, 9, 3))\n",
    "print(list(range(2, 9, 3)))"
   ]
  },
  {
   "cell_type": "code",
   "execution_count": 10,
   "metadata": {},
   "outputs": [
    {
     "name": "stdout",
     "output_type": "stream",
     "text": [
      "range(-3, 3, 2)\n",
      "[-3, -1, 1]\n"
     ]
    }
   ],
   "source": [
    "print(range(-3, 3, 2))\n",
    "print(list(range(-3, 3, 2)))"
   ]
  },
  {
   "cell_type": "markdown",
   "metadata": {},
   "source": [
    "Loop control statements in Python:\n",
    "\n",
    "1) break - this statement terminates the loop and transfers the execution to the \n",
    "statement after the loop.\n",
    "\n",
    "2) continue - suspends execution of remaining statements in the loop and goes \n",
    "back to the next loop iteration.\n",
    "\n",
    "3) pass - does nothing, is used for syntax purpose, the control goes to the next line."
   ]
  },
  {
   "cell_type": "code",
   "execution_count": 11,
   "metadata": {},
   "outputs": [
    {
     "name": "stdout",
     "output_type": "stream",
     "text": [
      "22 is not a multiple of 3\n",
      "23 is not a multiple of 3\n",
      "24 is the first multiple of 3\n"
     ]
    }
   ],
   "source": [
    "for n in range(22, 30):\n",
    "    if n % 3 == 0:\n",
    "        print(n, 'is the first multiple of 3')\n",
    "        break\n",
    "    else:\n",
    "        print(n, 'is not a multiple of 3')"
   ]
  },
  {
   "cell_type": "code",
   "execution_count": 12,
   "metadata": {},
   "outputs": [
    {
     "name": "stdout",
     "output_type": "stream",
     "text": [
      "22 is not a multiple of 4\n",
      "23 is not a multiple of 4\n",
      "24 is a multiple of 4\n",
      "25 is not a multiple of 4\n",
      "26 is not a multiple of 4\n",
      "27 is not a multiple of 4\n",
      "28 is a multiple of 4\n",
      "29 is not a multiple of 4\n"
     ]
    }
   ],
   "source": [
    "for n in range(22, 30):\n",
    "    if n % 4 == 0:\n",
    "        print(n, 'is a multiple of 4') \n",
    "        continue\n",
    "    print(n, 'is not a multiple of 4')"
   ]
  },
  {
   "cell_type": "code",
   "execution_count": 13,
   "metadata": {},
   "outputs": [
    {
     "name": "stdout",
     "output_type": "stream",
     "text": [
      "3\n"
     ]
    }
   ],
   "source": [
    "for item in [1,2,3]: \n",
    "    pass \n",
    "print(item)"
   ]
  },
  {
   "cell_type": "code",
   "execution_count": 14,
   "metadata": {},
   "outputs": [
    {
     "name": "stdout",
     "output_type": "stream",
     "text": [
      "[1, 3, 6, -2, 5, 8]\n"
     ]
    }
   ],
   "source": [
    "some_list = [1, 3, 6, -2, 5, 8]\n",
    "print(some_list)"
   ]
  },
  {
   "cell_type": "code",
   "execution_count": 15,
   "metadata": {},
   "outputs": [
    {
     "name": "stdout",
     "output_type": "stream",
     "text": [
      "-2\n"
     ]
    }
   ],
   "source": [
    "for items in some_list:\n",
    "    if items < 0:\n",
    "        # we are iterating through some_list until we hit the first negative number\n",
    "        print(items)\n",
    "        break"
   ]
  },
  {
   "cell_type": "code",
   "execution_count": 16,
   "metadata": {},
   "outputs": [
    {
     "data": {
      "text/plain": [
       "\"\\nIn-class activity: Ask the user to input a year and if the input is '2018' \\nthen print 'You are right.'\\n\""
      ]
     },
     "execution_count": 16,
     "metadata": {},
     "output_type": "execute_result"
    }
   ],
   "source": [
    "'''\n",
    "In-class activity: Ask the user to input a year and if the input is '2018' \n",
    "then print 'You are right.'\n",
    "'''"
   ]
  },
  {
   "cell_type": "code",
   "execution_count": 23,
   "metadata": {},
   "outputs": [
    {
     "name": "stdout",
     "output_type": "stream",
     "text": [
      "Input a 4-digit year\n",
      "2018\n",
      "You are right.\n"
     ]
    }
   ],
   "source": [
    "print('Input a 4-digit year')\n",
    "year = input()\n",
    "if year == '2018':\n",
    "    print('You are right.')\n",
    "else:\n",
    "    print('Try again.')"
   ]
  },
  {
   "cell_type": "code",
   "execution_count": null,
   "metadata": {},
   "outputs": [],
   "source": [
    "'''\n",
    "In-class activity: Create a list that starts with -10 and goes all the way \n",
    "up to 10. Then find:\n",
    "1) all the multiples of 4\n",
    "2) stop when you found the first multiple of 4\n",
    "''' "
   ]
  },
  {
   "cell_type": "code",
   "execution_count": 1,
   "metadata": {},
   "outputs": [
    {
     "name": "stdout",
     "output_type": "stream",
     "text": [
      "-8\n",
      "-4\n",
      "0\n",
      "4\n",
      "8\n"
     ]
    }
   ],
   "source": [
    "list1 = list(range(-10,11))\n",
    "for i in list1:\n",
    "    if i % 4 ==0:\n",
    "        print(i)"
   ]
  },
  {
   "cell_type": "code",
   "execution_count": 2,
   "metadata": {},
   "outputs": [
    {
     "name": "stdout",
     "output_type": "stream",
     "text": [
      "-8\n"
     ]
    }
   ],
   "source": [
    "list1 = list(range(-10,11))\n",
    "for i in list1:\n",
    "    if i % 4==0:\n",
    "        print(i)\n",
    "        break\n",
    "    "
   ]
  },
  {
   "cell_type": "code",
   "execution_count": null,
   "metadata": {},
   "outputs": [],
   "source": [
    "'''\n",
    "while-loop\n",
    "\n",
    "syntax\n",
    "\n",
    "while (condition):\n",
    "    statements\n",
    "    \n",
    "Note: The while loop will get executed only when the condition is True.\n",
    "'''"
   ]
  },
  {
   "cell_type": "code",
   "execution_count": 25,
   "metadata": {},
   "outputs": [
    {
     "name": "stdout",
     "output_type": "stream",
     "text": [
      "5\n",
      "4\n",
      "3\n",
      "2\n",
      "1\n"
     ]
    }
   ],
   "source": [
    "n = 5\n",
    "while (n > 0):\n",
    "    print(n)\n",
    "    n -= 1"
   ]
  },
  {
   "cell_type": "code",
   "execution_count": 26,
   "metadata": {},
   "outputs": [
    {
     "name": "stdout",
     "output_type": "stream",
     "text": [
      "4\n"
     ]
    }
   ],
   "source": [
    "# Example of an infinite while-loop with a break statement inside the \n",
    "# if condition\n",
    "\n",
    "n = 0\n",
    "while True:\n",
    "    if n == 4:\n",
    "        print(n)\n",
    "        break\n",
    "    n += 1"
   ]
  },
  {
   "cell_type": "code",
   "execution_count": 27,
   "metadata": {},
   "outputs": [],
   "source": [
    "n = 5\n",
    "while False:\n",
    "    if n == 4:\n",
    "        print(n)\n",
    "        break \n",
    "    n -= 1\n",
    "    \n",
    "# Why is this not working?\n",
    "#While loop is defined to be false. While loops only run when a condition is true. So, loop never begins."
   ]
  },
  {
   "cell_type": "code",
   "execution_count": null,
   "metadata": {},
   "outputs": [],
   "source": [
    "'''\n",
    "In-class activity:\n",
    "Write a code that will keep taking names from the user until the user \n",
    "decides to quit by entering q or Q. Also perform a check to see whether the \n",
    "user entered anything. If the user didn't enter anything, ask them to enter \n",
    "a name. \n",
    "'''"
   ]
  },
  {
   "cell_type": "code",
   "execution_count": 6,
   "metadata": {},
   "outputs": [
    {
     "name": "stdout",
     "output_type": "stream",
     "text": [
      "Enter your name:\n",
      "q\n"
     ]
    }
   ],
   "source": [
    "print('Enter your name:')\n",
    "name = input()\n",
    "while name not in ['q','Q']:\n",
    "    if not name:\n",
    "        print('Try again')\n",
    "    name = input()"
   ]
  },
  {
   "cell_type": "code",
   "execution_count": null,
   "metadata": {},
   "outputs": [],
   "source": []
  }
 ],
 "metadata": {
  "anaconda-cloud": {},
  "kernelspec": {
   "display_name": "Python 3",
   "language": "python",
   "name": "python3"
  },
  "language_info": {
   "codemirror_mode": {
    "name": "ipython",
    "version": 3
   },
   "file_extension": ".py",
   "mimetype": "text/x-python",
   "name": "python",
   "nbconvert_exporter": "python",
   "pygments_lexer": "ipython3",
   "version": "3.7.0"
  },
  "widgets": {
   "state": {},
   "version": "1.1.2"
  }
 },
 "nbformat": 4,
 "nbformat_minor": 1
}
